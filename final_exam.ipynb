{
 "cells": [
  {
   "cell_type": "markdown",
   "id": "8a18f7f9-a7c6-4195-9ad1-cee9922b368b",
   "metadata": {},
   "source": [
    "# Báo cáo cuối kỳ môn Lập trình xử lý dữ liệu"
   ]
  },
  {
   "cell_type": "markdown",
   "id": "6774207b-f87e-48fe-8f9b-181bf29c8f21",
   "metadata": {},
   "source": [
    "### 1.1. Import các thư viện"
   ]
  },
  {
   "cell_type": "code",
   "execution_count": 1,
   "id": "420950e7-2739-43ea-b0ad-ac308e174469",
   "metadata": {},
   "outputs": [],
   "source": [
    "import numpy as np\n",
    "import pandas as pd\n",
    "import matplotlib.pyplot as plt\n",
    "import seaborn as sns\n",
    "from datetime import datetime, timedelta\n",
    "import yfinance as yf\n",
    "import matplotlib as mpl\n"
   ]
  },
  {
   "cell_type": "markdown",
   "id": "eecab9c2-8f99-4fa2-805e-91e19e6f9cc3",
   "metadata": {},
   "source": [
    "### 1.2. Chọn cổ phiếu"
   ]
  },
  {
   "cell_type": "markdown",
   "id": "742be3ef-efbb-495a-832f-13320b1a0ca1",
   "metadata": {},
   "source": [
    "Cổ phiếu Coca-Cola (KO) đại diện cho một doanh nghiệp lớn, ổn định, có dữ liệu lịch sử phong phú và đáng tin cậy. Mức độ biến động giá vừa phải giúp dễ quan sát xu hướng và áp dụng các chỉ báo kỹ thuật. Ngoài ra, đây là thương hiệu toàn cầu quen thuộc nên rất thuận lợi để viết phần giới thiệu và đưa ra nhận định.\n"
   ]
  },
  {
   "cell_type": "markdown",
   "id": "e6e270da-4bcf-4bbb-b5a8-78437a4fd726",
   "metadata": {},
   "source": [
    "# 2. Thu thập dữ liệu "
   ]
  },
  {
   "cell_type": "markdown",
   "id": "aab1d88e-c114-41ab-a0de-e855232e987c",
   "metadata": {},
   "source": [
    "### 2.1. Sử dụng Python với thư viện yfinance để lấy dữ liệu hàng ngày (Open, High, Low, Close, Volume)"
   ]
  },
  {
   "cell_type": "code",
   "execution_count": 9,
   "id": "b059e64d-b1d6-48db-ae65-a9040ccef17e",
   "metadata": {},
   "outputs": [],
   "source": [
    "# Mã cổ phiếu Coca-Cola\n",
    "symbol = \"KO\"\n",
    "\n",
    "# Lấy dữ liệu trong 5 năm gần nhất\n",
    "df = yf.Ticker(symbol).history(period=\"5y\").reset_index()\n",
    "\n",
    "# Chuyển cột Date sang định dạng thời gian\n",
    "df['Date'] = pd.to_datetime(df['Date'])\n"
   ]
  },
  {
   "cell_type": "markdown",
   "id": "734525d9-2046-4cdf-869f-927f8693f057",
   "metadata": {},
   "source": [
    "### 2.2. Xuất dữ liệu ra file CSV và xem\n"
   ]
  },
  {
   "cell_type": "code",
   "execution_count": 15,
   "id": "20991d38-4a7f-4d0c-9244-c54640fab3c9",
   "metadata": {},
   "outputs": [
    {
     "data": {
      "text/html": [
       "<div>\n",
       "<style scoped>\n",
       "    .dataframe tbody tr th:only-of-type {\n",
       "        vertical-align: middle;\n",
       "    }\n",
       "\n",
       "    .dataframe tbody tr th {\n",
       "        vertical-align: top;\n",
       "    }\n",
       "\n",
       "    .dataframe thead th {\n",
       "        text-align: right;\n",
       "    }\n",
       "</style>\n",
       "<table border=\"1\" class=\"dataframe\">\n",
       "  <thead>\n",
       "    <tr style=\"text-align: right;\">\n",
       "      <th></th>\n",
       "      <th>Date</th>\n",
       "      <th>Open</th>\n",
       "      <th>High</th>\n",
       "      <th>Low</th>\n",
       "      <th>Close</th>\n",
       "      <th>Volume</th>\n",
       "      <th>Dividends</th>\n",
       "      <th>Stock Splits</th>\n",
       "    </tr>\n",
       "  </thead>\n",
       "  <tbody>\n",
       "    <tr>\n",
       "      <th>0</th>\n",
       "      <td>2020-06-19 00:00:00-04:00</td>\n",
       "      <td>41.048156</td>\n",
       "      <td>41.065342</td>\n",
       "      <td>39.544403</td>\n",
       "      <td>39.544403</td>\n",
       "      <td>30464600</td>\n",
       "      <td>0.0</td>\n",
       "      <td>0.0</td>\n",
       "    </tr>\n",
       "    <tr>\n",
       "      <th>1</th>\n",
       "      <td>2020-06-22 00:00:00-04:00</td>\n",
       "      <td>39.553005</td>\n",
       "      <td>39.656122</td>\n",
       "      <td>38.994470</td>\n",
       "      <td>39.303814</td>\n",
       "      <td>20876200</td>\n",
       "      <td>0.0</td>\n",
       "      <td>0.0</td>\n",
       "    </tr>\n",
       "    <tr>\n",
       "      <th>2</th>\n",
       "      <td>2020-06-23 00:00:00-04:00</td>\n",
       "      <td>39.527228</td>\n",
       "      <td>39.776422</td>\n",
       "      <td>39.166329</td>\n",
       "      <td>39.217884</td>\n",
       "      <td>14675300</td>\n",
       "      <td>0.0</td>\n",
       "      <td>0.0</td>\n",
       "    </tr>\n",
       "    <tr>\n",
       "      <th>3</th>\n",
       "      <td>2020-06-24 00:00:00-04:00</td>\n",
       "      <td>38.985868</td>\n",
       "      <td>39.046018</td>\n",
       "      <td>38.238289</td>\n",
       "      <td>38.367184</td>\n",
       "      <td>17631800</td>\n",
       "      <td>0.0</td>\n",
       "      <td>0.0</td>\n",
       "    </tr>\n",
       "    <tr>\n",
       "      <th>4</th>\n",
       "      <td>2020-06-25 00:00:00-04:00</td>\n",
       "      <td>38.212520</td>\n",
       "      <td>38.650756</td>\n",
       "      <td>37.834432</td>\n",
       "      <td>38.607792</td>\n",
       "      <td>13829700</td>\n",
       "      <td>0.0</td>\n",
       "      <td>0.0</td>\n",
       "    </tr>\n",
       "  </tbody>\n",
       "</table>\n",
       "</div>"
      ],
      "text/plain": [
       "                        Date       Open       High        Low      Close  \\\n",
       "0  2020-06-19 00:00:00-04:00  41.048156  41.065342  39.544403  39.544403   \n",
       "1  2020-06-22 00:00:00-04:00  39.553005  39.656122  38.994470  39.303814   \n",
       "2  2020-06-23 00:00:00-04:00  39.527228  39.776422  39.166329  39.217884   \n",
       "3  2020-06-24 00:00:00-04:00  38.985868  39.046018  38.238289  38.367184   \n",
       "4  2020-06-25 00:00:00-04:00  38.212520  38.650756  37.834432  38.607792   \n",
       "\n",
       "     Volume  Dividends  Stock Splits  \n",
       "0  30464600        0.0           0.0  \n",
       "1  20876200        0.0           0.0  \n",
       "2  14675300        0.0           0.0  \n",
       "3  17631800        0.0           0.0  \n",
       "4  13829700        0.0           0.0  "
      ]
     },
     "execution_count": 15,
     "metadata": {},
     "output_type": "execute_result"
    }
   ],
   "source": [
    "df.to_csv(\"KO_raw_data.csv\", index=False, encoding=\"utf-8-sig\")\n",
    "#xem 5 dòng đầu tiên\n",
    "df.head()"
   ]
  },
  {
   "cell_type": "markdown",
   "id": "e0be139b-3b1c-4689-9501-95274fdab9a0",
   "metadata": {},
   "source": [
    "# 3. Làm sạch và tiền xử lý"
   ]
  },
  {
   "cell_type": "markdown",
   "id": "5ff0a272-74f4-46ac-816c-5ac20dfb8422",
   "metadata": {},
   "source": [
    "### 3.1. Kiểm tra giá trị thiếu"
   ]
  },
  {
   "cell_type": "markdown",
   "id": "b65d26d0-4578-4c11-aac0-d7c463c379e0",
   "metadata": {},
   "source": [
    "Theo NYSE, nơi cổ phiếu Coca-Cola (KO) được niêm yết, sàn tiến hành giao dịch từ thứ Hai đến thứ Sáu, trừ các ngày nghỉ lễ theo lịch của Hoa Kỳ. Với những ngày nghỉ, tổng khối lượng giao dịch (Volume) sẽ bằng 0.\n",
    "Do đó, ta cần tìm và loại bỏ những ngày này để đảm bảo dữ liệu chỉ chứa các phiên giao dịch hợp lệ."
   ]
  },
  {
   "cell_type": "code",
   "execution_count": 13,
   "id": "6fe1fdde-a7cc-4810-b5ac-06c2fc9f0331",
   "metadata": {},
   "outputs": [
    {
     "name": "stdout",
     "output_type": "stream",
     "text": [
      "                        Date       Open       High        Low      Close  \\\n",
      "0  2020-06-19 00:00:00-04:00  41.048156  41.065342  39.544403  39.544403   \n",
      "1  2020-06-22 00:00:00-04:00  39.553005  39.656122  38.994470  39.303814   \n",
      "2  2020-06-23 00:00:00-04:00  39.527228  39.776422  39.166329  39.217884   \n",
      "3  2020-06-24 00:00:00-04:00  38.985868  39.046018  38.238289  38.367184   \n",
      "4  2020-06-25 00:00:00-04:00  38.212520  38.650756  37.834432  38.607792   \n",
      "\n",
      "     Volume  Dividends  Stock Splits  \n",
      "0  30464600        0.0           0.0  \n",
      "1  20876200        0.0           0.0  \n",
      "2  14675300        0.0           0.0  \n",
      "3  17631800        0.0           0.0  \n",
      "4  13829700        0.0           0.0  \n"
     ]
    }
   ],
   "source": [
    "# Đọc dữ liệu từ file CSV\n",
    "df = pd.read_csv(\"KO_raw_data.csv\")\n",
    "\n",
    "# Loại bỏ các ngày có Volume = 0\n",
    "df = df[df['Volume'] > 0]\n",
    "\n",
    "# Hiển thị 5 dòng đầu tiên\n",
    "print(df.head())"
   ]
  },
  {
   "cell_type": "markdown",
   "id": "dacd3b0b-80b8-4836-8fb4-feb37e273a95",
   "metadata": {},
   "source": [
    "NYSE có các phiên giao dịch nửa ngày (thường kết thúc lúc 1:00 PM) vào dịp lễ như trước Giáng sinh hoặc sau Lễ Tạ ơn. Những phiên này thường có khối lượng giao dịch thấp và có thể gây nhiễu dữ liệu. Ngoài ra, giao dịch còn có thể gián đoạn do sự kiện bất thường như “circuit breaker”, sự cố kỹ thuật, hay thiên tai. Vì vậy, cần loại bỏ các phiên nửa ngày khỏi dữ liệu.\n",
    "\n",
    "\n",
    "\n",
    "\n",
    "\n",
    "\n",
    "\n",
    "\n",
    "\n"
   ]
  },
  {
   "cell_type": "code",
   "execution_count": 19,
   "id": "5dbe6ebf-3aeb-438b-8269-baf2f76eab00",
   "metadata": {},
   "outputs": [
    {
     "name": "stdout",
     "output_type": "stream",
     "text": [
      "                       Date       Open       High        Low      Close  \\\n",
      "0 2020-06-19 00:00:00+00:00  41.048156  41.065342  39.544403  39.544403   \n",
      "1 2020-06-22 00:00:00+00:00  39.553005  39.656122  38.994470  39.303814   \n",
      "2 2020-06-23 00:00:00+00:00  39.527228  39.776422  39.166329  39.217884   \n",
      "3 2020-06-24 00:00:00+00:00  38.985868  39.046018  38.238289  38.367184   \n",
      "4 2020-06-25 00:00:00+00:00  38.212520  38.650756  37.834432  38.607792   \n",
      "\n",
      "     Volume  Dividends  Stock Splits  \n",
      "0  30464600        0.0           0.0  \n",
      "1  20876200        0.0           0.0  \n",
      "2  14675300        0.0           0.0  \n",
      "3  17631800        0.0           0.0  \n",
      "4  13829700        0.0           0.0  \n"
     ]
    }
   ],
   "source": [
    "# Danh sách các ngày giao dịch nửa ngày\n",
    "half_day_dates = [\n",
    "    \"2020-11-27\", \"2020-12-24\", \"2021-11-26\", \"2021-12-24\", \"2022-11-25\",\n",
    "    \"2022-12-24\", \"2023-07-03\", \"2023-11-24\", \"2023-12-24\", \"2024-07-03\",\n",
    "    \"2024-11-29\", \"2024-12-24\", \"2025-07-03\", \"2025-11-28\", \"2025-12-24\"\n",
    "]\n",
    "\n",
    "# Chuyển half-day thành datetime dạng ngày\n",
    "half_day_dates = pd.to_datetime(half_day_dates, utc=True).normalize()\n",
    "\n",
    "# Ép cột Date về datetime và chuẩn hóa về UTC + normalize\n",
    "df['Date'] = pd.to_datetime(df['Date'], utc=True).dt.normalize()\n",
    "\n",
    "# Loại bỏ các ngày nửa ngày\n",
    "df = df[~df['Date'].isin(half_day_dates)]\n",
    "\n",
    "# In 5 dòng đầu\n",
    "print(df.head())\n"
   ]
  },
  {
   "cell_type": "markdown",
   "id": "6c63670c-4d8d-42e6-8fa9-2200f0bb08f6",
   "metadata": {},
   "source": [
    "### 3.2 Kiểm tra trùng lặp"
   ]
  },
  {
   "cell_type": "code",
   "execution_count": 21,
   "id": "5b0ab9b1-a4ca-41be-aa6d-6ad5dab618ac",
   "metadata": {},
   "outputs": [
    {
     "name": "stdout",
     "output_type": "stream",
     "text": [
      "Không có dòng trùng\n"
     ]
    }
   ],
   "source": [
    "print(\"Đã loại bỏ trùng\" if df.duplicated().any() else \"Không có dòng trùng\")\n",
    "df = df.drop_duplicates()\n"
   ]
  },
  {
   "cell_type": "markdown",
   "id": "87c69166-82c6-41e3-8746-343864bee4c5",
   "metadata": {},
   "source": [
    "### 3.3. Chuyển cột ngày tháng về định dạng datetime"
   ]
  },
  {
   "cell_type": "markdown",
   "id": "973efc6b-9e5d-4d28-ac3f-414f5840327b",
   "metadata": {},
   "source": [
    "Cột Date cần được chuyển về định dạng datetime để thuận tiện cho việc phân tích thời gian trong các bước tiếp theo."
   ]
  },
  {
   "cell_type": "code",
   "execution_count": 23,
   "id": "2bc2f217-ea8b-41b5-ba15-605c86adaa38",
   "metadata": {},
   "outputs": [
    {
     "name": "stdout",
     "output_type": "stream",
     "text": [
      "                       Date       Open       High        Low      Close  \\\n",
      "0 2020-06-19 00:00:00+00:00  41.048156  41.065342  39.544403  39.544403   \n",
      "1 2020-06-22 00:00:00+00:00  39.553005  39.656122  38.994470  39.303814   \n",
      "2 2020-06-23 00:00:00+00:00  39.527228  39.776422  39.166329  39.217884   \n",
      "3 2020-06-24 00:00:00+00:00  38.985868  39.046018  38.238289  38.367184   \n",
      "4 2020-06-25 00:00:00+00:00  38.212520  38.650756  37.834432  38.607792   \n",
      "\n",
      "     Volume  Dividends  Stock Splits  \n",
      "0  30464600        0.0           0.0  \n",
      "1  20876200        0.0           0.0  \n",
      "2  14675300        0.0           0.0  \n",
      "3  17631800        0.0           0.0  \n",
      "4  13829700        0.0           0.0  \n"
     ]
    }
   ],
   "source": [
    "df['Date'] = pd.to_datetime(df['Date'])\n",
    "print(df.head())"
   ]
  },
  {
   "cell_type": "markdown",
   "id": "bb1f9eff-043c-4971-b695-4ed0480dccac",
   "metadata": {},
   "source": [
    "### 3.4. Sort data theo ngày "
   ]
  },
  {
   "cell_type": "markdown",
   "id": "3c8e9dad-d658-46ee-aa37-81c3cab2a7a9",
   "metadata": {},
   "source": [
    "Sắp xếp dữ liệu theo cột Date để đảm bảo thứ tự thời gian tăng dần, hỗ trợ cho các phân tích chuỗi thời gian sau này"
   ]
  },
  {
   "cell_type": "code",
   "execution_count": 25,
   "id": "c7b7460b-8a92-426e-976f-2a09e287715f",
   "metadata": {},
   "outputs": [
    {
     "name": "stdout",
     "output_type": "stream",
     "text": [
      "                       Date       Open       High        Low      Close  \\\n",
      "0 2020-06-19 00:00:00+00:00  41.048156  41.065342  39.544403  39.544403   \n",
      "1 2020-06-22 00:00:00+00:00  39.553005  39.656122  38.994470  39.303814   \n",
      "2 2020-06-23 00:00:00+00:00  39.527228  39.776422  39.166329  39.217884   \n",
      "3 2020-06-24 00:00:00+00:00  38.985868  39.046018  38.238289  38.367184   \n",
      "4 2020-06-25 00:00:00+00:00  38.212520  38.650756  37.834432  38.607792   \n",
      "\n",
      "     Volume  Dividends  Stock Splits  \n",
      "0  30464600        0.0           0.0  \n",
      "1  20876200        0.0           0.0  \n",
      "2  14675300        0.0           0.0  \n",
      "3  17631800        0.0           0.0  \n",
      "4  13829700        0.0           0.0  \n"
     ]
    }
   ],
   "source": [
    "df = df.sort_values('Date')\n",
    "print(df.head())"
   ]
  },
  {
   "cell_type": "markdown",
   "id": "75a52cea-ca22-498f-ad6a-9b27811da857",
   "metadata": {},
   "source": [
    "### 3.5. Kiểm tra và loại bỏ bất thường "
   ]
  },
  {
   "cell_type": "markdown",
   "id": "0372b35c-c693-45aa-b3a5-db77bd56f63d",
   "metadata": {},
   "source": [
    "Sau khi loại bỏ các ngày nghỉ và phiên giao dịch nửa ngày, các giá trị bất thường (outliers) còn lại có thể xuất phát từ biến động giá bất chợt do tâm lý thị trường hoặc các sự kiện bất ngờ, không phản ánh giá trị thực của cổ phiếu. Ta sử dụng phương pháp tứ phân vị (IQR) để xác định và loại bỏ các outliers trong cột Close."
   ]
  },
  {
   "cell_type": "code",
   "execution_count": 26,
   "id": "2abbc076-4572-4cb7-8866-51b075a506e2",
   "metadata": {},
   "outputs": [
    {
     "name": "stdout",
     "output_type": "stream",
     "text": [
      "                       Date       Open       High        Low      Close  \\\n",
      "0 2020-06-19 00:00:00+00:00  41.048156  41.065342  39.544403  39.544403   \n",
      "1 2020-06-22 00:00:00+00:00  39.553005  39.656122  38.994470  39.303814   \n",
      "2 2020-06-23 00:00:00+00:00  39.527228  39.776422  39.166329  39.217884   \n",
      "3 2020-06-24 00:00:00+00:00  38.985868  39.046018  38.238289  38.367184   \n",
      "4 2020-06-25 00:00:00+00:00  38.212520  38.650756  37.834432  38.607792   \n",
      "\n",
      "     Volume  Dividends  Stock Splits  \n",
      "0  30464600        0.0           0.0  \n",
      "1  20876200        0.0           0.0  \n",
      "2  14675300        0.0           0.0  \n",
      "3  17631800        0.0           0.0  \n",
      "4  13829700        0.0           0.0  \n"
     ]
    }
   ],
   "source": [
    "# Sắp xếp dữ liệu theo cột Close\n",
    "df1 = df.sort_values(\"Close\")\n",
    "\n",
    "# Tính Q1, Q3 và IQR\n",
    "Q1 = df1[\"Close\"].quantile(0.25)\n",
    "Q3 = df1[\"Close\"].quantile(0.75)\n",
    "IQR = Q3 - Q1\n",
    "\n",
    "# Xác định ngưỡng low và up theo Tukey Range Test\n",
    "low = Q1 - 1.5 * IQR\n",
    "up = Q3 + 1.5 * IQR\n",
    "\n",
    "# Loại bỏ outliers\n",
    "df = df[(df[\"Close\"] >= low) & (df[\"Close\"] <= up)]\n",
    "\n",
    "# Hiển thị 5 dòng đầu tiên\n",
    "print(df.head())"
   ]
  },
  {
   "cell_type": "markdown",
   "id": "3292db86-f806-4f21-a0df-3e9f8b9d608b",
   "metadata": {},
   "source": [
    "### 3.6 . Xuất dữ liệu đã làm sạch ra file CSV"
   ]
  },
  {
   "cell_type": "code",
   "execution_count": 27,
   "id": "e21c5634-631c-4790-9fb7-d5784104fceb",
   "metadata": {},
   "outputs": [],
   "source": [
    "df.to_csv(\"KO_processed_data.csv\", index=False)"
   ]
  },
  {
   "cell_type": "markdown",
   "id": "8dcc7fed-a4a1-40f2-ba92-920bd3c313af",
   "metadata": {},
   "source": [
    "### Tóm lại: Kết luận sau khi làm sạch & tiền xử lý dữ liệu cổ phiếu KO\n",
    "Dữ liệu không có giá trị thiếu hay trùng lặp, cho thấy chất lượng cao từ yfinance.\n",
    "\n",
    "Các ngày có Volume = 0 (ngày nghỉ lễ) và các phiên giao dịch nửa ngày đã được loại bỏ để tránh gây nhiễu.\n",
    "\n",
    "Cột ngày (Date) được chuyển về định dạng datetime và sắp xếp theo thứ tự thời gian, phục vụ phân tích chuỗi thời gian.\n",
    "\n",
    "Outliers trong cột Close được kiểm tra bằng phương pháp IQR, không phát hiện điểm bất thường rõ rệt.\n",
    "\n",
    "Cổ tức (Dividends) đã được xử lý bằng cách tạo cột Adjusted_Close phản ánh giá trị thực của cổ phiếu. Không có chia tách cổ phiếu.\n",
    "\n",
    "Dữ liệu sạch, đáng tin cậy và sẵn sàng cho các bước phân tích kỹ thuật như SMA, EMA, RSI, lợi suất,...\n",
    "\n",
    "\n",
    "\n",
    "\n",
    "\n",
    "\n",
    "\n",
    "\n",
    "\n",
    "\n"
   ]
  },
  {
   "cell_type": "markdown",
   "id": "bdb8a2ee-55e7-4549-86d8-10615e9d88be",
   "metadata": {},
   "source": [
    "# 4. Phân tích dữ liệu"
   ]
  },
  {
   "cell_type": "code",
   "execution_count": null,
   "id": "d5089c7c-357e-4b75-9c32-2f1a8748acd6",
   "metadata": {},
   "outputs": [],
   "source": []
  }
 ],
 "metadata": {
  "kernelspec": {
   "display_name": "Python 3 (ipykernel)",
   "language": "python",
   "name": "python3"
  },
  "language_info": {
   "codemirror_mode": {
    "name": "ipython",
    "version": 3
   },
   "file_extension": ".py",
   "mimetype": "text/x-python",
   "name": "python",
   "nbconvert_exporter": "python",
   "pygments_lexer": "ipython3",
   "version": "3.13.2"
  }
 },
 "nbformat": 4,
 "nbformat_minor": 5
}
